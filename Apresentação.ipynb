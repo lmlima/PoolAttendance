{
  "nbformat": 4,
  "nbformat_minor": 0,
  "metadata": {
    "colab": {
      "name": "Apresentação.ipynb",
      "provenance": [],
      "collapsed_sections": [],
      "toc_visible": true,
      "include_colab_link": true
    },
    "kernelspec": {
      "name": "python3",
      "display_name": "Python 3"
    }
  },
  "cells": [
    {
      "cell_type": "markdown",
      "metadata": {
        "id": "view-in-github",
        "colab_type": "text"
      },
      "source": [
        "<a href=\"https://colab.research.google.com/github/lmlima/PoolAttendance/blob/master/Apresenta%C3%A7%C3%A3o.ipynb\" target=\"_parent\"><img src=\"https://colab.research.google.com/assets/colab-badge.svg\" alt=\"Open In Colab\"/></a>"
      ]
    },
    {
      "cell_type": "markdown",
      "metadata": {
        "id": "RgTFz1ugyirT",
        "colab_type": "text"
      },
      "source": [
        "# 1. Dependências\n",
        "\n",
        "- Explicar o uso de cada biblioteca"
      ]
    },
    {
      "cell_type": "code",
      "metadata": {
        "id": "ToGlcKoTuRtE",
        "colab_type": "code",
        "cellView": "form",
        "outputId": "78440589-6813-4ebc-ab82-7ac2e5aee11b",
        "colab": {
          "base_uri": "https://localhost:8080/",
          "height": 955
        }
      },
      "source": [
        "#@title Instalando dependências\n",
        "#install TensorFlow 2.0 alpha version\n",
        "!pip install tensorflow==2.0.0-alpha0\n",
        "\n",
        "# Load the TensorBoard notebook extension\n",
        "%load_ext tensorboard.notebook\n",
        "\n",
        "# multivariate one step problem with lstm\n",
        "import tensorflow as tf\n",
        "import os\n",
        "import datetime\n",
        "\n",
        "from numpy import array\n",
        "from numpy import hstack\n",
        "from tensorflow.keras.models import Sequential\n",
        "from tensorflow.keras.layers import Dense\n",
        "from tensorflow.keras.layers import LSTM\n",
        "from tensorflow.keras.preprocessing.sequence import TimeseriesGenerator"
      ],
      "execution_count": 1,
      "outputs": [
        {
          "output_type": "stream",
          "text": [
            "Collecting tensorflow==2.0.0-alpha0\n",
            "\u001b[?25l  Downloading https://files.pythonhosted.org/packages/29/39/f99185d39131b8333afcfe1dcdb0629c2ffc4ecfb0e4c14ca210d620e56c/tensorflow-2.0.0a0-cp36-cp36m-manylinux1_x86_64.whl (79.9MB)\n",
            "\u001b[K     |████████████████████████████████| 79.9MB 39kB/s \n",
            "\u001b[?25hRequirement already satisfied: termcolor>=1.1.0 in /usr/local/lib/python3.6/dist-packages (from tensorflow==2.0.0-alpha0) (1.1.0)\n",
            "Requirement already satisfied: absl-py>=0.7.0 in /usr/local/lib/python3.6/dist-packages (from tensorflow==2.0.0-alpha0) (0.8.1)\n",
            "Requirement already satisfied: keras-preprocessing>=1.0.5 in /usr/local/lib/python3.6/dist-packages (from tensorflow==2.0.0-alpha0) (1.1.0)\n",
            "Requirement already satisfied: numpy<2.0,>=1.14.5 in /usr/local/lib/python3.6/dist-packages (from tensorflow==2.0.0-alpha0) (1.17.3)\n",
            "Requirement already satisfied: astor>=0.6.0 in /usr/local/lib/python3.6/dist-packages (from tensorflow==2.0.0-alpha0) (0.8.0)\n",
            "Requirement already satisfied: keras-applications>=1.0.6 in /usr/local/lib/python3.6/dist-packages (from tensorflow==2.0.0-alpha0) (1.0.8)\n",
            "Collecting tb-nightly<1.14.0a20190302,>=1.14.0a20190301\n",
            "\u001b[?25l  Downloading https://files.pythonhosted.org/packages/a9/51/aa1d756644bf4624c03844115e4ac4058eff77acd786b26315f051a4b195/tb_nightly-1.14.0a20190301-py3-none-any.whl (3.0MB)\n",
            "\u001b[K     |████████████████████████████████| 3.0MB 27.5MB/s \n",
            "\u001b[?25hRequirement already satisfied: protobuf>=3.6.1 in /usr/local/lib/python3.6/dist-packages (from tensorflow==2.0.0-alpha0) (3.10.0)\n",
            "Requirement already satisfied: six>=1.10.0 in /usr/local/lib/python3.6/dist-packages (from tensorflow==2.0.0-alpha0) (1.12.0)\n",
            "Collecting tf-estimator-nightly<1.14.0.dev2019030116,>=1.14.0.dev2019030115\n",
            "\u001b[?25l  Downloading https://files.pythonhosted.org/packages/13/82/f16063b4eed210dc2ab057930ac1da4fbe1e91b7b051a6c8370b401e6ae7/tf_estimator_nightly-1.14.0.dev2019030115-py2.py3-none-any.whl (411kB)\n",
            "\u001b[K     |████████████████████████████████| 419kB 37.7MB/s \n",
            "\u001b[?25hRequirement already satisfied: google-pasta>=0.1.2 in /usr/local/lib/python3.6/dist-packages (from tensorflow==2.0.0-alpha0) (0.1.7)\n",
            "Requirement already satisfied: gast>=0.2.0 in /usr/local/lib/python3.6/dist-packages (from tensorflow==2.0.0-alpha0) (0.2.2)\n",
            "Requirement already satisfied: grpcio>=1.8.6 in /usr/local/lib/python3.6/dist-packages (from tensorflow==2.0.0-alpha0) (1.15.0)\n",
            "Requirement already satisfied: wheel>=0.26 in /usr/local/lib/python3.6/dist-packages (from tensorflow==2.0.0-alpha0) (0.33.6)\n",
            "Requirement already satisfied: h5py in /usr/local/lib/python3.6/dist-packages (from keras-applications>=1.0.6->tensorflow==2.0.0-alpha0) (2.8.0)\n",
            "Requirement already satisfied: werkzeug>=0.11.15 in /usr/local/lib/python3.6/dist-packages (from tb-nightly<1.14.0a20190302,>=1.14.0a20190301->tensorflow==2.0.0-alpha0) (0.16.0)\n",
            "Requirement already satisfied: markdown>=2.6.8 in /usr/local/lib/python3.6/dist-packages (from tb-nightly<1.14.0a20190302,>=1.14.0a20190301->tensorflow==2.0.0-alpha0) (3.1.1)\n",
            "Requirement already satisfied: setuptools in /usr/local/lib/python3.6/dist-packages (from protobuf>=3.6.1->tensorflow==2.0.0-alpha0) (41.4.0)\n",
            "Installing collected packages: tb-nightly, tf-estimator-nightly, tensorflow\n",
            "  Found existing installation: tensorflow 1.15.0\n",
            "    Uninstalling tensorflow-1.15.0:\n",
            "      Successfully uninstalled tensorflow-1.15.0\n",
            "Successfully installed tb-nightly-1.14.0a20190301 tensorflow-2.0.0a0 tf-estimator-nightly-1.14.0.dev2019030115\n"
          ],
          "name": "stdout"
        },
        {
          "output_type": "stream",
          "text": [
            "/usr/local/lib/python3.6/dist-packages/tensorflow/python/framework/dtypes.py:523: FutureWarning: Passing (type, 1) or '1type' as a synonym of type is deprecated; in a future version of numpy, it will be understood as (type, (1,)) / '(1,)type'.\n",
            "  _np_qint8 = np.dtype([(\"qint8\", np.int8, 1)])\n",
            "/usr/local/lib/python3.6/dist-packages/tensorflow/python/framework/dtypes.py:524: FutureWarning: Passing (type, 1) or '1type' as a synonym of type is deprecated; in a future version of numpy, it will be understood as (type, (1,)) / '(1,)type'.\n",
            "  _np_quint8 = np.dtype([(\"quint8\", np.uint8, 1)])\n",
            "/usr/local/lib/python3.6/dist-packages/tensorflow/python/framework/dtypes.py:525: FutureWarning: Passing (type, 1) or '1type' as a synonym of type is deprecated; in a future version of numpy, it will be understood as (type, (1,)) / '(1,)type'.\n",
            "  _np_qint16 = np.dtype([(\"qint16\", np.int16, 1)])\n",
            "/usr/local/lib/python3.6/dist-packages/tensorflow/python/framework/dtypes.py:526: FutureWarning: Passing (type, 1) or '1type' as a synonym of type is deprecated; in a future version of numpy, it will be understood as (type, (1,)) / '(1,)type'.\n",
            "  _np_quint16 = np.dtype([(\"quint16\", np.uint16, 1)])\n",
            "/usr/local/lib/python3.6/dist-packages/tensorflow/python/framework/dtypes.py:527: FutureWarning: Passing (type, 1) or '1type' as a synonym of type is deprecated; in a future version of numpy, it will be understood as (type, (1,)) / '(1,)type'.\n",
            "  _np_qint32 = np.dtype([(\"qint32\", np.int32, 1)])\n",
            "/usr/local/lib/python3.6/dist-packages/tensorflow/python/framework/dtypes.py:532: FutureWarning: Passing (type, 1) or '1type' as a synonym of type is deprecated; in a future version of numpy, it will be understood as (type, (1,)) / '(1,)type'.\n",
            "  np_resource = np.dtype([(\"resource\", np.ubyte, 1)])\n",
            "/usr/local/lib/python3.6/dist-packages/tensorboard/compat/tensorflow_stub/dtypes.py:541: FutureWarning: Passing (type, 1) or '1type' as a synonym of type is deprecated; in a future version of numpy, it will be understood as (type, (1,)) / '(1,)type'.\n",
            "  _np_qint8 = np.dtype([(\"qint8\", np.int8, 1)])\n",
            "/usr/local/lib/python3.6/dist-packages/tensorboard/compat/tensorflow_stub/dtypes.py:542: FutureWarning: Passing (type, 1) or '1type' as a synonym of type is deprecated; in a future version of numpy, it will be understood as (type, (1,)) / '(1,)type'.\n",
            "  _np_quint8 = np.dtype([(\"quint8\", np.uint8, 1)])\n",
            "/usr/local/lib/python3.6/dist-packages/tensorboard/compat/tensorflow_stub/dtypes.py:543: FutureWarning: Passing (type, 1) or '1type' as a synonym of type is deprecated; in a future version of numpy, it will be understood as (type, (1,)) / '(1,)type'.\n",
            "  _np_qint16 = np.dtype([(\"qint16\", np.int16, 1)])\n",
            "/usr/local/lib/python3.6/dist-packages/tensorboard/compat/tensorflow_stub/dtypes.py:544: FutureWarning: Passing (type, 1) or '1type' as a synonym of type is deprecated; in a future version of numpy, it will be understood as (type, (1,)) / '(1,)type'.\n",
            "  _np_quint16 = np.dtype([(\"quint16\", np.uint16, 1)])\n",
            "/usr/local/lib/python3.6/dist-packages/tensorboard/compat/tensorflow_stub/dtypes.py:545: FutureWarning: Passing (type, 1) or '1type' as a synonym of type is deprecated; in a future version of numpy, it will be understood as (type, (1,)) / '(1,)type'.\n",
            "  _np_qint32 = np.dtype([(\"qint32\", np.int32, 1)])\n",
            "/usr/local/lib/python3.6/dist-packages/tensorboard/compat/tensorflow_stub/dtypes.py:550: FutureWarning: Passing (type, 1) or '1type' as a synonym of type is deprecated; in a future version of numpy, it will be understood as (type, (1,)) / '(1,)type'.\n",
            "  np_resource = np.dtype([(\"resource\", np.ubyte, 1)])\n"
          ],
          "name": "stderr"
        }
      ]
    },
    {
      "cell_type": "markdown",
      "metadata": {
        "id": "1dtiI0RJyrTB",
        "colab_type": "text"
      },
      "source": [
        "# 2. Base de dados"
      ]
    },
    {
      "cell_type": "markdown",
      "metadata": {
        "id": "kF8PZOfGxCHS",
        "colab_type": "text"
      },
      "source": [
        "## 2.1. Define a base de dados\n",
        "\n",
        "- Apresentar e fazer uma breve analise da base de dados"
      ]
    },
    {
      "cell_type": "code",
      "metadata": {
        "id": "xIgZfurOw6of",
        "colab_type": "code",
        "colab": {}
      },
      "source": [
        "# define dataset\n",
        "in_seq1 = array([10, 20, 30, 40, 50, 60, 70, 80, 90, 100])\n",
        "in_seq2 = array([15, 25, 35, 45, 55, 65, 75, 85, 95, 105])\n",
        "\n",
        "# reshape series\n",
        "in_seq1 = in_seq1.reshape((len(in_seq1), 1))\n",
        "in_seq2 = in_seq2.reshape((len(in_seq2), 1))\n",
        "\n",
        "# horizontally stack columns\n",
        "dataset = hstack((in_seq1, in_seq2))\n",
        "target = in_seq2"
      ],
      "execution_count": 0,
      "outputs": []
    },
    {
      "cell_type": "markdown",
      "metadata": {
        "id": "kSZYXEyvxfFJ",
        "colab_type": "text"
      },
      "source": [
        "## 2.2. Prepara os dados para a predição\n",
        "\n",
        "- Explicar as etapas da preparação e seus parâmetros"
      ]
    },
    {
      "cell_type": "code",
      "metadata": {
        "id": "mVt0dd5Mx0lz",
        "colab_type": "code",
        "colab": {
          "base_uri": "https://localhost:8080/",
          "height": 102
        },
        "outputId": "d653c847-53ae-4132-ffdb-3a389521c538"
      },
      "source": [
        "# define generator\n",
        "n_features = dataset.shape[1]\n",
        "n_output = target.shape[1]\n",
        "\n",
        "window_size = 2\n",
        "n_batch = 8\n",
        "\n",
        "generator = TimeseriesGenerator(dataset, target, length=window_size, batch_size=n_batch)\n",
        "\n",
        "# Visualização\n",
        "print(F\"Número de características de entrada: {n_features}\")\n",
        "print(F\"Número de características de saída: {n_output}\\n\")\n",
        "\n",
        "print(F\"Janela de avaliação: {window_size}\")\n",
        "print(F\"Tamanho do batch: {n_batch}\")"
      ],
      "execution_count": 3,
      "outputs": [
        {
          "output_type": "stream",
          "text": [
            "Número de características de entrada: 2\n",
            "Número de características de saída: 1\n",
            "\n",
            "Janela de avaliação: 2\n",
            "Tamanho do batch: 8\n"
          ],
          "name": "stdout"
        }
      ]
    },
    {
      "cell_type": "markdown",
      "metadata": {
        "id": "_0gtmEjcx0vd",
        "colab_type": "text"
      },
      "source": [
        "# 3. Modelo\n",
        "\n"
      ]
    },
    {
      "cell_type": "markdown",
      "metadata": {
        "id": "rrzDNntByPHr",
        "colab_type": "text"
      },
      "source": [
        "## 3.1. Arquitetura do modelo\n",
        "- Apresentar as diferentes alternativas\n",
        "- Explicar qual utilizar e pq"
      ]
    },
    {
      "cell_type": "code",
      "metadata": {
        "id": "yP7mv5ETyBb3",
        "colab_type": "code",
        "colab": {}
      },
      "source": [
        "# define model\n",
        "def baseline_model(): \n",
        "  model = Sequential()\n",
        "  model.add(LSTM(100, activation='relu', input_shape=(window_size, n_features)))\n",
        "  model.add(Dense(n_output))\n",
        "  model.compile(optimizer='adam', loss='mse', metrics=['mae', tf.keras.metrics.RootMeanSquaredError()])\n",
        "  return model\n",
        "\n",
        "b_model = baseline_model()"
      ],
      "execution_count": 0,
      "outputs": []
    },
    {
      "cell_type": "markdown",
      "metadata": {
        "id": "TvQRU9YGyBop",
        "colab_type": "text"
      },
      "source": [
        "## 3.2. Treinamento\n",
        "- Apresentar os hiperparâmetros e pq\n",
        "- Visualizar treinamento"
      ]
    },
    {
      "cell_type": "code",
      "metadata": {
        "id": "_3x0XcmQ0ljI",
        "colab_type": "code",
        "colab": {}
      },
      "source": [
        "# Configuração do Tensorboard\n",
        "logdir = os.path.join(\"logs\", datetime.datetime.now().strftime(\"%Y%m%d-%H%M%S\"))\n",
        "tensorboard_callback = tf.keras.callbacks.TensorBoard(logdir, histogram_freq=1)"
      ],
      "execution_count": 0,
      "outputs": []
    },
    {
      "cell_type": "code",
      "metadata": {
        "id": "xUWcwrlqyByA",
        "colab_type": "code",
        "colab": {
          "base_uri": "https://localhost:8080/",
          "height": 1000
        },
        "outputId": "4e196328-3764-415f-e8cf-5261b771e7ba"
      },
      "source": [
        "# fit model\n",
        "n_epochs = 100\n",
        "n_steps = 1\n",
        "\n",
        "b_model.fit_generator(generator, steps_per_epoch=n_steps, epochs=n_epochs, callbacks=[tensorboard_callback], verbose=1)"
      ],
      "execution_count": 6,
      "outputs": [
        {
          "output_type": "stream",
          "text": [
            "Epoch 1/100\n",
            "1/1 [==============================] - 2s 2s/step - loss: 4404.6543 - mae: 63.4837 - root_mean_squared_error: 66.3676\n",
            "Epoch 2/100\n",
            "1/1 [==============================] - 0s 102ms/step - loss: 4245.9170 - mae: 62.3814 - root_mean_squared_error: 65.1607\n",
            "Epoch 3/100\n",
            "1/1 [==============================] - 0s 13ms/step - loss: 4091.4761 - mae: 61.2881 - root_mean_squared_error: 63.9646\n",
            "Epoch 4/100\n",
            "1/1 [==============================] - 0s 85ms/step - loss: 3940.3540 - mae: 60.1967 - root_mean_squared_error: 62.7722\n",
            "Epoch 5/100\n",
            "1/1 [==============================] - 0s 96ms/step - loss: 3792.0361 - mae: 59.1040 - root_mean_squared_error: 61.5795\n",
            "Epoch 6/100\n",
            "1/1 [==============================] - 0s 96ms/step - loss: 3646.2212 - mae: 58.0076 - root_mean_squared_error: 60.3839\n",
            "Epoch 7/100\n",
            "1/1 [==============================] - 0s 97ms/step - loss: 3502.5103 - mae: 56.9041 - root_mean_squared_error: 59.1820\n",
            "Epoch 8/100\n",
            "1/1 [==============================] - 0s 96ms/step - loss: 3360.2319 - mae: 55.7877 - root_mean_squared_error: 57.9675\n",
            "Epoch 9/100\n",
            "1/1 [==============================] - 0s 97ms/step - loss: 3218.3892 - mae: 54.6501 - root_mean_squared_error: 56.7309\n",
            "Epoch 10/100\n",
            "1/1 [==============================] - 0s 97ms/step - loss: 3075.7888 - mae: 53.4810 - root_mean_squared_error: 55.4598\n",
            "Epoch 11/100\n",
            "1/1 [==============================] - 0s 97ms/step - loss: 2931.1294 - mae: 52.2680 - root_mean_squared_error: 54.1399\n",
            "Epoch 12/100\n",
            "1/1 [==============================] - 0s 99ms/step - loss: 2783.3755 - mae: 50.9999 - root_mean_squared_error: 52.7577\n",
            "Epoch 13/100\n",
            "1/1 [==============================] - 0s 93ms/step - loss: 2631.8604 - mae: 49.6664 - root_mean_squared_error: 51.3017\n",
            "Epoch 14/100\n",
            "1/1 [==============================] - 0s 104ms/step - loss: 2476.2593 - mae: 48.2583 - root_mean_squared_error: 49.7620\n",
            "Epoch 15/100\n",
            "1/1 [==============================] - 0s 95ms/step - loss: 2317.2012 - mae: 46.7728 - root_mean_squared_error: 48.1373\n",
            "Epoch 16/100\n",
            "1/1 [==============================] - 0s 93ms/step - loss: 2156.1123 - mae: 45.2137 - root_mean_squared_error: 46.4340\n",
            "Epoch 17/100\n",
            "1/1 [==============================] - 0s 98ms/step - loss: 1994.8857 - mae: 43.5892 - root_mean_squared_error: 44.6641\n",
            "Epoch 18/100\n",
            "1/1 [==============================] - 0s 102ms/step - loss: 1835.3961 - mae: 41.9095 - root_mean_squared_error: 42.8415\n",
            "Epoch 19/100\n",
            "1/1 [==============================] - 0s 99ms/step - loss: 1679.0996 - mae: 40.1829 - root_mean_squared_error: 40.9768\n",
            "Epoch 20/100\n",
            "1/1 [==============================] - 0s 95ms/step - loss: 1526.9094 - mae: 38.4134 - root_mean_squared_error: 39.0757\n",
            "Epoch 21/100\n",
            "1/1 [==============================] - 0s 98ms/step - loss: 1379.2491 - mae: 36.6007 - root_mean_squared_error: 37.1382\n",
            "Epoch 22/100\n",
            "1/1 [==============================] - 0s 96ms/step - loss: 1236.2455 - mae: 34.7402 - root_mean_squared_error: 35.1603\n",
            "Epoch 23/100\n",
            "1/1 [==============================] - 0s 95ms/step - loss: 1097.9938 - mae: 32.8255 - root_mean_squared_error: 33.1360\n",
            "Epoch 24/100\n",
            "1/1 [==============================] - 0s 94ms/step - loss: 964.8599 - mae: 30.8516 - root_mean_squared_error: 31.0622\n",
            "Epoch 25/100\n",
            "1/1 [==============================] - 0s 100ms/step - loss: 837.6132 - mae: 28.8175 - root_mean_squared_error: 28.9415\n",
            "Epoch 26/100\n",
            "1/1 [==============================] - 0s 97ms/step - loss: 717.2344 - mae: 26.7253 - root_mean_squared_error: 26.7812\n",
            "Epoch 27/100\n",
            "1/1 [==============================] - 0s 95ms/step - loss: 604.5618 - mae: 24.5753 - root_mean_squared_error: 24.5878\n",
            "Epoch 28/100\n",
            "1/1 [==============================] - 0s 92ms/step - loss: 500.1163 - mae: 22.3604 - root_mean_squared_error: 22.3633\n",
            "Epoch 29/100\n",
            "1/1 [==============================] - 0s 90ms/step - loss: 404.2868 - mae: 20.0649 - root_mean_squared_error: 20.1069\n",
            "Epoch 30/100\n",
            "1/1 [==============================] - 0s 100ms/step - loss: 317.6775 - mae: 17.6651 - root_mean_squared_error: 17.8235\n",
            "Epoch 31/100\n",
            "1/1 [==============================] - 0s 96ms/step - loss: 241.3804 - mae: 15.1284 - root_mean_squared_error: 15.5364\n",
            "Epoch 32/100\n",
            "1/1 [==============================] - 0s 99ms/step - loss: 177.4022 - mae: 12.4100 - root_mean_squared_error: 13.3192\n",
            "Epoch 33/100\n",
            "1/1 [==============================] - 0s 101ms/step - loss: 129.4786 - mae: 9.4682 - root_mean_squared_error: 11.3789\n",
            "Epoch 34/100\n",
            "1/1 [==============================] - 0s 91ms/step - loss: 103.1736 - mae: 8.1752 - root_mean_squared_error: 10.1574\n",
            "Epoch 35/100\n",
            "1/1 [==============================] - 0s 93ms/step - loss: 103.2872 - mae: 8.5825 - root_mean_squared_error: 10.1630\n",
            "Epoch 36/100\n",
            "1/1 [==============================] - 0s 97ms/step - loss: 123.6988 - mae: 9.7006 - root_mean_squared_error: 11.1220\n",
            "Epoch 37/100\n",
            "1/1 [==============================] - 0s 100ms/step - loss: 145.0745 - mae: 10.4173 - root_mean_squared_error: 12.0447\n",
            "Epoch 38/100\n",
            "1/1 [==============================] - 0s 97ms/step - loss: 157.6560 - mae: 10.8198 - root_mean_squared_error: 12.5561\n",
            "Epoch 39/100\n",
            "1/1 [==============================] - 0s 91ms/step - loss: 160.2595 - mae: 10.9438 - root_mean_squared_error: 12.6594\n",
            "Epoch 40/100\n",
            "1/1 [==============================] - 0s 97ms/step - loss: 155.3160 - mae: 10.7832 - root_mean_squared_error: 12.4626\n",
            "Epoch 41/100\n",
            "1/1 [==============================] - 0s 98ms/step - loss: 146.0172 - mae: 10.4502 - root_mean_squared_error: 12.0838\n",
            "Epoch 42/100\n",
            "1/1 [==============================] - 0s 100ms/step - loss: 134.8492 - mae: 10.0209 - root_mean_squared_error: 11.6125\n",
            "Epoch 43/100\n",
            "1/1 [==============================] - 0s 95ms/step - loss: 123.3726 - mae: 9.5417 - root_mean_squared_error: 11.1073\n",
            "Epoch 44/100\n",
            "1/1 [==============================] - 0s 89ms/step - loss: 112.5567 - mae: 9.1080 - root_mean_squared_error: 10.6093\n",
            "Epoch 45/100\n",
            "1/1 [==============================] - 0s 95ms/step - loss: 102.9823 - mae: 8.7530 - root_mean_squared_error: 10.1480\n",
            "Epoch 46/100\n",
            "1/1 [==============================] - 0s 99ms/step - loss: 94.8371 - mae: 8.4157 - root_mean_squared_error: 9.7384\n",
            "Epoch 47/100\n",
            "1/1 [==============================] - 0s 98ms/step - loss: 87.9874 - mae: 8.0930 - root_mean_squared_error: 9.3802\n",
            "Epoch 48/100\n",
            "1/1 [==============================] - 0s 94ms/step - loss: 82.1744 - mae: 7.7773 - root_mean_squared_error: 9.0650\n",
            "Epoch 49/100\n",
            "1/1 [==============================] - 0s 94ms/step - loss: 77.1750 - mae: 7.4615 - root_mean_squared_error: 8.7849\n",
            "Epoch 50/100\n",
            "1/1 [==============================] - 0s 100ms/step - loss: 72.8524 - mae: 7.1571 - root_mean_squared_error: 8.5354\n",
            "Epoch 51/100\n",
            "1/1 [==============================] - 0s 97ms/step - loss: 69.1341 - mae: 6.9782 - root_mean_squared_error: 8.3147\n",
            "Epoch 52/100\n",
            "1/1 [==============================] - 0s 97ms/step - loss: 65.9635 - mae: 6.7893 - root_mean_squared_error: 8.1218\n",
            "Epoch 53/100\n",
            "1/1 [==============================] - 0s 103ms/step - loss: 63.2477 - mae: 6.5963 - root_mean_squared_error: 7.9528\n",
            "Epoch 54/100\n",
            "1/1 [==============================] - 0s 88ms/step - loss: 60.8319 - mae: 6.4047 - root_mean_squared_error: 7.7995\n",
            "Epoch 55/100\n",
            "1/1 [==============================] - 0s 97ms/step - loss: 58.5177 - mae: 6.2180 - root_mean_squared_error: 7.6497\n",
            "Epoch 56/100\n",
            "1/1 [==============================] - 0s 98ms/step - loss: 56.1162 - mae: 6.0379 - root_mean_squared_error: 7.4911\n",
            "Epoch 57/100\n",
            "1/1 [==============================] - 0s 100ms/step - loss: 53.5158 - mae: 5.8670 - root_mean_squared_error: 7.3154\n",
            "Epoch 58/100\n",
            "1/1 [==============================] - 0s 96ms/step - loss: 50.7529 - mae: 5.7104 - root_mean_squared_error: 7.1241\n",
            "Epoch 59/100\n",
            "1/1 [==============================] - 0s 94ms/step - loss: 48.0955 - mae: 5.5757 - root_mean_squared_error: 6.9351\n",
            "Epoch 60/100\n",
            "1/1 [==============================] - 0s 97ms/step - loss: 45.9977 - mae: 5.4647 - root_mean_squared_error: 6.7822\n",
            "Epoch 61/100\n",
            "1/1 [==============================] - 0s 98ms/step - loss: 44.0691 - mae: 5.3208 - root_mean_squared_error: 6.6385\n",
            "Epoch 62/100\n",
            "1/1 [==============================] - 0s 97ms/step - loss: 41.6574 - mae: 5.1820 - root_mean_squared_error: 6.4543\n",
            "Epoch 63/100\n",
            "1/1 [==============================] - 0s 95ms/step - loss: 38.8379 - mae: 4.9782 - root_mean_squared_error: 6.2320\n",
            "Epoch 64/100\n",
            "1/1 [==============================] - 0s 94ms/step - loss: 35.9362 - mae: 4.7372 - root_mean_squared_error: 5.9947\n",
            "Epoch 65/100\n",
            "1/1 [==============================] - 0s 98ms/step - loss: 33.1817 - mae: 4.4893 - root_mean_squared_error: 5.7604\n",
            "Epoch 66/100\n",
            "1/1 [==============================] - 0s 96ms/step - loss: 30.6518 - mae: 4.2507 - root_mean_squared_error: 5.5364\n",
            "Epoch 67/100\n",
            "1/1 [==============================] - 0s 98ms/step - loss: 28.3365 - mae: 4.0270 - root_mean_squared_error: 5.3232\n",
            "Epoch 68/100\n",
            "1/1 [==============================] - 0s 99ms/step - loss: 26.1760 - mae: 3.8127 - root_mean_squared_error: 5.1163\n",
            "Epoch 69/100\n",
            "1/1 [==============================] - 0s 98ms/step - loss: 24.1076 - mae: 3.5988 - root_mean_squared_error: 4.9099\n",
            "Epoch 70/100\n",
            "1/1 [==============================] - 0s 92ms/step - loss: 22.1034 - mae: 3.3810 - root_mean_squared_error: 4.7014\n",
            "Epoch 71/100\n",
            "1/1 [==============================] - 0s 100ms/step - loss: 20.1635 - mae: 3.1577 - root_mean_squared_error: 4.4904\n",
            "Epoch 72/100\n",
            "1/1 [==============================] - 0s 98ms/step - loss: 18.3064 - mae: 2.9293 - root_mean_squared_error: 4.2786\n",
            "Epoch 73/100\n",
            "1/1 [==============================] - 0s 97ms/step - loss: 16.5603 - mae: 2.7152 - root_mean_squared_error: 4.0694\n",
            "Epoch 74/100\n",
            "1/1 [==============================] - 0s 98ms/step - loss: 14.9503 - mae: 2.5407 - root_mean_squared_error: 3.8666\n",
            "Epoch 75/100\n",
            "1/1 [==============================] - 0s 95ms/step - loss: 13.4865 - mae: 2.3578 - root_mean_squared_error: 3.6724\n",
            "Epoch 76/100\n",
            "1/1 [==============================] - 0s 95ms/step - loss: 12.1613 - mae: 2.2373 - root_mean_squared_error: 3.4873\n",
            "Epoch 77/100\n",
            "1/1 [==============================] - 0s 96ms/step - loss: 10.9614 - mae: 2.0981 - root_mean_squared_error: 3.3108\n",
            "Epoch 78/100\n",
            "1/1 [==============================] - 0s 98ms/step - loss: 9.8816 - mae: 1.9242 - root_mean_squared_error: 3.1435\n",
            "Epoch 79/100\n",
            "1/1 [==============================] - 0s 98ms/step - loss: 8.9295 - mae: 1.7259 - root_mean_squared_error: 2.9882\n",
            "Epoch 80/100\n",
            "1/1 [==============================] - 0s 98ms/step - loss: 8.1135 - mae: 1.5778 - root_mean_squared_error: 2.8484\n",
            "Epoch 81/100\n",
            "1/1 [==============================] - 0s 94ms/step - loss: 7.4281 - mae: 1.4980 - root_mean_squared_error: 2.7254\n",
            "Epoch 82/100\n",
            "1/1 [==============================] - 0s 99ms/step - loss: 6.8561 - mae: 1.4383 - root_mean_squared_error: 2.6184\n",
            "Epoch 83/100\n",
            "1/1 [==============================] - 0s 96ms/step - loss: 6.3824 - mae: 1.4223 - root_mean_squared_error: 2.5263\n",
            "Epoch 84/100\n",
            "1/1 [==============================] - 0s 98ms/step - loss: 6.0001 - mae: 1.4829 - root_mean_squared_error: 2.4495\n",
            "Epoch 85/100\n",
            "1/1 [==============================] - 0s 98ms/step - loss: 5.7018 - mae: 1.5386 - root_mean_squared_error: 2.3878\n",
            "Epoch 86/100\n",
            "1/1 [==============================] - 0s 91ms/step - loss: 5.4707 - mae: 1.5850 - root_mean_squared_error: 2.3390\n",
            "Epoch 87/100\n",
            "1/1 [==============================] - 0s 98ms/step - loss: 5.2861 - mae: 1.6186 - root_mean_squared_error: 2.2991\n",
            "Epoch 88/100\n",
            "1/1 [==============================] - 0s 93ms/step - loss: 5.1344 - mae: 1.6388 - root_mean_squared_error: 2.2659\n",
            "Epoch 89/100\n",
            "1/1 [==============================] - 0s 99ms/step - loss: 5.0086 - mae: 1.6544 - root_mean_squared_error: 2.2380\n",
            "Epoch 90/100\n",
            "1/1 [==============================] - 0s 93ms/step - loss: 4.8986 - mae: 1.6766 - root_mean_squared_error: 2.2133\n",
            "Epoch 91/100\n",
            "1/1 [==============================] - 0s 96ms/step - loss: 4.7900 - mae: 1.6865 - root_mean_squared_error: 2.1886\n",
            "Epoch 92/100\n",
            "1/1 [==============================] - 0s 96ms/step - loss: 4.6720 - mae: 1.6849 - root_mean_squared_error: 2.1615\n",
            "Epoch 93/100\n",
            "1/1 [==============================] - 0s 100ms/step - loss: 4.5408 - mae: 1.6723 - root_mean_squared_error: 2.1309\n",
            "Epoch 94/100\n",
            "1/1 [==============================] - 0s 94ms/step - loss: 4.3966 - mae: 1.6456 - root_mean_squared_error: 2.0968\n",
            "Epoch 95/100\n",
            "1/1 [==============================] - 0s 96ms/step - loss: 4.2378 - mae: 1.6143 - root_mean_squared_error: 2.0586\n",
            "Epoch 96/100\n",
            "1/1 [==============================] - 0s 98ms/step - loss: 4.0630 - mae: 1.5894 - root_mean_squared_error: 2.0157\n",
            "Epoch 97/100\n",
            "1/1 [==============================] - 0s 97ms/step - loss: 3.8751 - mae: 1.5629 - root_mean_squared_error: 1.9685\n",
            "Epoch 98/100\n",
            "1/1 [==============================] - 0s 97ms/step - loss: 3.6820 - mae: 1.5319 - root_mean_squared_error: 1.9188\n",
            "Epoch 99/100\n",
            "1/1 [==============================] - 0s 101ms/step - loss: 3.4935 - mae: 1.4952 - root_mean_squared_error: 1.8691\n",
            "Epoch 100/100\n",
            "1/1 [==============================] - 0s 94ms/step - loss: 3.3191 - mae: 1.4520 - root_mean_squared_error: 1.8218\n"
          ],
          "name": "stdout"
        },
        {
          "output_type": "execute_result",
          "data": {
            "text/plain": [
              "<tensorflow.python.keras.callbacks.History at 0x7f94b6dfd358>"
            ]
          },
          "metadata": {
            "tags": []
          },
          "execution_count": 6
        }
      ]
    },
    {
      "cell_type": "code",
      "metadata": {
        "id": "n3wGqEAX06-c",
        "colab_type": "code",
        "colab": {
          "base_uri": "https://localhost:8080/",
          "height": 17
        },
        "cellView": "form",
        "outputId": "7fcf4f36-b528-4afc-dba1-a464f239b9d0"
      },
      "source": [
        "#@title Visualizar treinamento\n",
        "%tensorboard --logdir logs"
      ],
      "execution_count": 7,
      "outputs": [
        {
          "output_type": "display_data",
          "data": {
            "text/html": [
              "\n",
              "    <div id=\"root\"></div>\n",
              "    <script>\n",
              "      (function() {\n",
              "        window.TENSORBOARD_ENV = window.TENSORBOARD_ENV || {};\n",
              "        window.TENSORBOARD_ENV[\"IN_COLAB\"] = true;\n",
              "        document.querySelector(\"base\").href = \"https://localhost:6006\";\n",
              "        function fixUpTensorboard(root) {\n",
              "          const tftb = root.querySelector(\"tf-tensorboard\");\n",
              "          // Disable the fragment manipulation behavior in Colab. Not\n",
              "          // only is the behavior not useful (as the iframe's location\n",
              "          // is not visible to the user), it causes TensorBoard's usage\n",
              "          // of `window.replace` to navigate away from the page and to\n",
              "          // the `localhost:<port>` URL specified by the base URI, which\n",
              "          // in turn causes the frame to (likely) crash.\n",
              "          tftb.removeAttribute(\"use-hash\");\n",
              "        }\n",
              "        function executeAllScripts(root) {\n",
              "          // When `script` elements are inserted into the DOM by\n",
              "          // assigning to an element's `innerHTML`, the scripts are not\n",
              "          // executed. Thus, we manually re-insert these scripts so that\n",
              "          // TensorBoard can initialize itself.\n",
              "          for (const script of root.querySelectorAll(\"script\")) {\n",
              "            const newScript = document.createElement(\"script\");\n",
              "            newScript.type = script.type;\n",
              "            newScript.textContent = script.textContent;\n",
              "            root.appendChild(newScript);\n",
              "            script.remove();\n",
              "          }\n",
              "        }\n",
              "        function setHeight(root, height) {\n",
              "          // We set the height dynamically after the TensorBoard UI has\n",
              "          // been initialized. This avoids an intermediate state in\n",
              "          // which the container plus the UI become taller than the\n",
              "          // final width and cause the Colab output frame to be\n",
              "          // permanently resized, eventually leading to an empty\n",
              "          // vertical gap below the TensorBoard UI. It's not clear\n",
              "          // exactly what causes this problematic intermediate state,\n",
              "          // but setting the height late seems to fix it.\n",
              "          root.style.height = `${height}px`;\n",
              "        }\n",
              "        const root = document.getElementById(\"root\");\n",
              "        fetch(\".\")\n",
              "          .then((x) => x.text())\n",
              "          .then((html) => void (root.innerHTML = html))\n",
              "          .then(() => fixUpTensorboard(root))\n",
              "          .then(() => executeAllScripts(root))\n",
              "          .then(() => setHeight(root, 800));\n",
              "      })();\n",
              "    </script>\n",
              "  "
            ],
            "text/plain": [
              "<IPython.core.display.HTML object>"
            ]
          },
          "metadata": {
            "tags": []
          }
        }
      ]
    },
    {
      "cell_type": "markdown",
      "metadata": {
        "id": "_U21nOAoyB7P",
        "colab_type": "text"
      },
      "source": [
        "## 3.3. Teste\n",
        "- Apresentar teste de validação estatistica\n",
        "- Apresentar uso ilustrativo do modelo"
      ]
    },
    {
      "cell_type": "code",
      "metadata": {
        "id": "Q9wfXh9Atetn",
        "colab_type": "code",
        "outputId": "241f8f14-4b77-445d-946d-2a29c2fcb16a",
        "colab": {
          "base_uri": "https://localhost:8080/",
          "height": 34
        }
      },
      "source": [
        "# make a one step prediction out of sample\n",
        "x_input = array([[90, 95], [100, 105]]).reshape((1, window_size, n_features))\n",
        "yhat = b_model.predict(x_input, verbose=0)\n",
        "print(yhat)\n"
      ],
      "execution_count": 8,
      "outputs": [
        {
          "output_type": "stream",
          "text": [
            "[[117.31599]]\n"
          ],
          "name": "stdout"
        }
      ]
    }
  ]
}